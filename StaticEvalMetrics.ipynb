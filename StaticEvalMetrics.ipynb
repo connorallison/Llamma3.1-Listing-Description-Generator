{
 "cells": [
  {
   "cell_type": "code",
   "execution_count": null,
   "id": "d49dbf82-d349-4d43-be2c-8ea163a510b8",
   "metadata": {},
   "outputs": [],
   "source": [
    "import pandas as pd\n",
    "import numpy as np\n",
    "\n",
    "df = pd.read_csv('evaluation_array.csv') #First 50 from housing data simulation 1\n",
    "df2 = pd.read_csv('evaluation_array2.csv') #Housing data with descriptions 3"
   ]
  },
  {
   "cell_type": "markdown",
   "id": "efe3f991",
   "metadata": {},
   "source": [
    "Evaluation of a subset of our training data"
   ]
  },
  {
   "cell_type": "code",
   "execution_count": 11,
   "id": "d21e97dd-b8f3-450b-88d5-10ef193737fe",
   "metadata": {},
   "outputs": [
    {
     "data": {
      "text/plain": [
       "Human-Like    2.635\n",
       "Engagement    3.060\n",
       "Uniqueness    2.907\n",
       "Impression    2.807\n",
       "dtype: float64"
      ]
     },
     "execution_count": 11,
     "metadata": {},
     "output_type": "execute_result"
    }
   ],
   "source": [
    "np.mean(df, axis = 0).round(3)"
   ]
  },
  {
   "cell_type": "markdown",
   "id": "e3dbe7bd",
   "metadata": {},
   "source": [
    "Evaluations of our first model"
   ]
  },
  {
   "cell_type": "code",
   "execution_count": 12,
   "id": "89bf1d07",
   "metadata": {},
   "outputs": [
    {
     "data": {
      "text/plain": [
       "Human-Like    2.800\n",
       "Engagement    3.213\n",
       "Uniqueness    3.173\n",
       "Impression    3.067\n",
       "dtype: float64"
      ]
     },
     "execution_count": 12,
     "metadata": {},
     "output_type": "execute_result"
    }
   ],
   "source": [
    "np.mean(df2, axis = 0).round(3)"
   ]
  },
  {
   "cell_type": "code",
   "execution_count": 13,
   "id": "b885e3a0",
   "metadata": {},
   "outputs": [
    {
     "name": "stdout",
     "output_type": "stream",
     "text": [
      "Column: Human-Like, T-statistic: -1.217, P-value: 0.227\n",
      "Column: Engagement, T-statistic: -1.451, P-value: 0.150\n",
      "Column: Uniqueness, T-statistic: -2.313, P-value: 0.023\n",
      "Column: Impression, T-statistic: -2.347, P-value: 0.021\n"
     ]
    }
   ],
   "source": [
    "from scipy.stats import ttest_ind\n",
    "\n",
    "# Calculate means\n",
    "mean_df = np.mean(df, axis=0).round(3)\n",
    "mean_df2 = np.mean(df2, axis=0).round(3)\n",
    "\n",
    "# Perform t-test for the \"Impression\" column\n",
    "columns = df.columns\n",
    "for column in columns:\n",
    "    t_stat, p_value = ttest_ind(df[column], df2[column])\n",
    "    print(f\"Column: {column}, T-statistic: {t_stat:.3f}, P-value: {p_value:.3f}\")"
   ]
  }
 ],
 "metadata": {
  "kernelspec": {
   "display_name": "base",
   "language": "python",
   "name": "python3"
  },
  "language_info": {
   "codemirror_mode": {
    "name": "ipython",
    "version": 3
   },
   "file_extension": ".py",
   "mimetype": "text/x-python",
   "name": "python",
   "nbconvert_exporter": "python",
   "pygments_lexer": "ipython3",
   "version": "3.12.2"
  }
 },
 "nbformat": 4,
 "nbformat_minor": 5
}
